{
 "cells": [
  {
   "cell_type": "code",
   "execution_count": 3,
   "id": "49879cd1",
   "metadata": {},
   "outputs": [
    {
     "name": "stdout",
     "output_type": "stream",
     "text": [
      "Labeled 2 files and saved in '../Data/news' folder.\n"
     ]
    }
   ],
   "source": [
    "import os\n",
    "import json\n",
    "import random\n",
    "\n",
    "# Path to your folder\n",
    "folder_path = '../Data/new_nolabel'  # <-- change this\n",
    "output_folder = '../Data/news'      # <-- where to save labeled files\n",
    "\n",
    "# Create output folder if it doesn't exist\n",
    "os.makedirs(output_folder, exist_ok=True)\n",
    "\n",
    "# Labels to randomly assign\n",
    "labels = ['left', 'right', 'neutral']\n",
    "\n",
    "# Take all .utf8 files\n",
    "asianet = [f for f in os.listdir(folder_path) if f.startswith('asianet')]\n",
    "jaihind = [f for f in os.listdir(folder_path) if f.startswith('jaihind')]\n",
    "janayugam = [f for f in os.listdir(folder_path) if f.startswith('janayugam')]\n",
    "manorama = [f for f in os.listdir(folder_path) if f.startswith('manorama')]\n",
    "mathrubhumi = [f for f in os.listdir(folder_path) if f.startswith('mathrubhumi')]\n",
    "reporter = [f for f in os.listdir(folder_path) if f.startswith('reporter')]\n",
    "true_copy = [f for f in os.listdir(folder_path) if f.startswith('true_copy')]\n",
    "\n",
    "sl_file = [[asianet,\"right\"], [jaihind,\"right\"], [janayugam,'left'], [manorama,'neutral'], [mathrubhumi,'neutral'], [reporter,'left'], [true_copy,'left']]\n",
    "\n",
    "for selected_files in sl_file:\n",
    "    for filename in selected_files[0]:\n",
    "        input_path = os.path.join(folder_path, filename)\n",
    "        \n",
    "        # Load the JSON from the file\n",
    "        with open(input_path, 'r', encoding='utf-8') as f:\n",
    "            data = json.load(f)\n",
    "        \n",
    "        # For each article, add a random label\n",
    "        for url, article_data in data.items():\n",
    "            article_data['label'] = selected_files[1]\n",
    "        \n",
    "        # Save the modified data to a new JSON file\n",
    "        output_path = os.path.join(output_folder, filename.replace('.json', '_labeled.json'))\n",
    "        with open(output_path, 'w', encoding='utf-8') as f:\n",
    "            json.dump(data, f, ensure_ascii=False, indent=2)\n",
    "\n",
    "print(f\"Labeled {len(selected_files)} files and saved in '{output_folder}' folder.\")\n"
   ]
  }
 ],
 "metadata": {
  "kernelspec": {
   "display_name": "Python 3",
   "language": "python",
   "name": "python3"
  },
  "language_info": {
   "codemirror_mode": {
    "name": "ipython",
    "version": 3
   },
   "file_extension": ".py",
   "mimetype": "text/x-python",
   "name": "python",
   "nbconvert_exporter": "python",
   "pygments_lexer": "ipython3",
   "version": "3.12.10"
  }
 },
 "nbformat": 4,
 "nbformat_minor": 5
}
